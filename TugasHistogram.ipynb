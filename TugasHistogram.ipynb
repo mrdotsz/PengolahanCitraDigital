{
 "cells": [
  {
   "cell_type": "code",
   "execution_count": 17,
   "metadata": {},
   "outputs": [],
   "source": [
    "import matplotlib.pyplot as plt\n",
    "import numpy as np\n",
    "%matplotlib inline"
   ]
  },
  {
   "cell_type": "markdown",
   "metadata": {},
   "source": [
    "# Soal 1\n",
    "Data Citra Awal :\n",
    "\n",
    "    120    129\t122\t121\t125\t130\n",
    "\n",
    "    124\t128\t125\t123\t129\t129\n",
    "\n",
    "    127\t123\t122\t128\t121\t125\n",
    "\n",
    "    122\t126\t124\t127\t139\t120\n",
    "\n",
    "    128\t128\t123\t120\t129\t121\n",
    "\n",
    "    128\t127\t124\t122\t121\t126"
   ]
  },
  {
   "cell_type": "markdown",
   "metadata": {},
   "source": [
    "Hasil Output :\n",
    "\n",
    "    1\t10\t3\t2\t6\t11\n",
    "\n",
    "    5\t9\t6\t4\t10\t10\n",
    "\n",
    "    8\t4\t3\t9\t2\t6\n",
    "\n",
    "    3\t7\t5\t8\t11\t1\n",
    "\n",
    "    9\t9\t4\t1\t10\t2\n",
    "\n",
    "    9\t8\t5\t3\t2\t7"
   ]
  },
  {
   "cell_type": "code",
   "execution_count": 18,
   "metadata": {},
   "outputs": [
    {
     "data": {
      "image/png": "[encoded data removed]",
      "text/plain": [
       "<Figure size 432x288 with 1 Axes>"
      ]
     },
     "metadata": {
      "needs_background": "light"
     },
     "output_type": "display_data"
    },
    {
     "data": {
      "image/png": "[encoded data removed]",
      "text/plain": [
       "<Figure size 432x288 with 1 Axes>"
      ]
     },
     "metadata": {
      "needs_background": "light"
     },
     "output_type": "display_data"
    }
   ],
   "source": [
    "citra_awal = [120, 129, 122, 121, 125, 130, \n",
    "              124, 128, 125, 123, 129, 129,\n",
    "              127, 123, 122, 128, 121, 125,\n",
    "              122, 126, 124, 127, 139, 120,\n",
    "              128, 128, 123, 120, 129, 121,\n",
    "              128, 127, 124, 122, 121, 126]\n",
    "\n",
    "hist,bins = np.histogram(citra_awal, 256, [0,256])\n",
    "\n",
    "cdf = hist.cumsum()\n",
    "cdf_normalized = cdf * hist.max() / cdf.max()\n",
    "plt.plot(cdf_normalized, color='blue')\n",
    "plt.hist(citra_awal, 256, [0,256], color='red')\n",
    "plt.xlim([0,256])\n",
    "plt.legend(('cdf', 'histogram'), loc= 'upper left')\n",
    "plt.show()\n",
    "\n",
    "\n",
    "hasil_output_citra =[1, 10, 3, 2, 6, 11,\n",
    "                     5, 9, 6, 4, 10, 10,\n",
    "                     8, 4, 3, 9, 2, 6,\n",
    "                     3, 7, 5, 8, 11, 1,\n",
    "                     9, 9, 4, 1, 10, 2,\n",
    "                     9, 8, 5, 3, 2, 7]\n",
    "\n",
    "cdf_m = np.ma.masked_equal(cdf, 0)\n",
    "cdf_m = (cdf_m - cdf_m.min()) * 255 / (cdf_m.max()-cdf_m.min())\n",
    "cdf = np.ma.filled(cdf_m, 0).astype('uint8')\n",
    "hasil = cdf[citra_awal]\n",
    "plt.plot(cdf_normalized, color='blue')\n",
    "plt.hist(hasil, 256, [0,256], color='red')\n",
    "plt.xlim([0,256])\n",
    "plt.legend(('cdf', 'histogram'), loc= 'upper left')\n",
    "plt.show()"
   ]
  },
  {
   "cell_type": "markdown",
   "metadata": {},
   "source": [
    "# Soal 2\n",
    "Data Citra Awal :\n",
    "\n",
    "    7\t7\t7\t7\t7\t5\t5\t5\t5\t5\n",
    "\n",
    "    7\t7\t7\t6\t6\t6\t6\t5\t5\t5\n",
    "    \n",
    "    5\t5\t5\t5\t5\t4\t4\t5\t5\t5\n",
    "\n",
    "    3\t3\t3\t3\t4\t4\t4\t4\t5\t6\n",
    "\n",
    "    4\t4\t4\t2\t2\t0\t0\t0\t0\t1\n",
    "\n",
    "    5\t5\t6\t7\t7\t7\t7\t6\t6\t7\n",
    "\n",
    "    4\t4\t3\t3\t4\t5\t5\t5\t6\t6\n",
    "\n",
    "    7\t7\t7\t7\t7\t6\t7\t7\t7\t5\n",
    "\n",
    "    6\t6\t6\t6\t7\t7\t7\t5\t5\t5\n",
    "\n",
    "    4\t4\t4\t5\t5\t5\t6\t6\t6\t6"
   ]
  },
  {
   "cell_type": "markdown",
   "metadata": {},
   "source": [
    "Hasil Output Citra :\n",
    "\n",
    "    7\t7\t7\t7\t7\t4\t4\t4\t4\t4\n",
    "\n",
    "    7\t7\t7\t5\t5\t5\t5\t4\t4\t4\n",
    "\n",
    "    4\t4\t4\t4\t4\t2\t2\t4\t4\t4\n",
    "\n",
    "    1\t1\t1\t1\t2\t2\t2\t2\t4\t5\n",
    "\n",
    "    2\t2\t2\t0\t0\t0\t0\t0\t0\t0\n",
    "\n",
    "    4\t4\t5\t7\t7\t7\t7\t5\t5\t7\n",
    "\n",
    "    2\t2\t1\t1\t2\t4\t4\t4\t5\t5\n",
    "\n",
    "    7\t7\t7\t7\t7\t5\t7\t7\t7\t4\n",
    "\n",
    "    5\t5\t5\t5\t7\t7\t7\t4\t4\t4\n",
    "\n",
    "    2\t2\t2\t4\t4\t4\t5\t5\t5\t5"
   ]
  },
  {
   "cell_type": "code",
   "execution_count": 19,
   "metadata": {
    "scrolled": true
   },
   "outputs": [
    {
     "data": {
      "image/png": "[encoded data removed]",
      "text/plain": [
       "<Figure size 432x288 with 1 Axes>"
      ]
     },
     "metadata": {
      "needs_background": "light"
     },
     "output_type": "display_data"
    },
    {
     "data": {
      "image/png": "[encoded data removed]",
      "text/plain": [
       "<Figure size 432x288 with 1 Axes>"
      ]
     },
     "metadata": {
      "needs_background": "light"
     },
     "output_type": "display_data"
    }
   ],
   "source": [
    "citra_awal = [7, 7, 7, 7, 7, 5, 5, 5, 5, 5,\n",
    "              7, 7, 7, 6, 6, 6, 6, 5, 5, 5,\n",
    "              5, 5, 5, 5, 5, 4, 4, 5, 5, 5,\n",
    "              3, 3, 3, 3, 4, 4, 4, 4, 5, 6,\n",
    "              4, 4, 4, 2, 2, 0, 0, 0, 0, 1,\n",
    "              5, 5, 6, 7, 7, 7, 7, 6, 6, 7,\n",
    "              4, 4, 3, 3, 4, 5, 5, 5, 6, 6,\n",
    "              7, 7, 7, 7, 7, 6, 7, 7, 7, 5,\n",
    "              6, 6, 6, 6, 7, 7, 7, 5, 5, 5,\n",
    "              4, 4, 4, 5, 5, 5, 6, 6, 6, 6]\n",
    "\n",
    "hist,bins = np.histogram(citra_awal, 256, [0,256])\n",
    "\n",
    "cdf = hist.cumsum()\n",
    "cdf_normalized = cdf * hist.max() / cdf.max()\n",
    "plt.plot(cdf_normalized, color='blue')\n",
    "plt.hist(citra_awal, 256, [0,256], color='orange')\n",
    "plt.xlim([0,256])\n",
    "plt.legend(('cdf', 'histogram'), loc= 'upper right')\n",
    "plt.show()\n",
    "\n",
    "hasil_output_citra = [7, 7, 7, 7, 7, 4, 4, 4, 4, 4,\n",
    "                      7, 7, 7, 5, 5, 5, 5, 4, 4, 4,\n",
    "                      4, 4, 4, 4, 4, 2, 2, 4, 4, 4,\n",
    "                      1, 1, 1, 1, 2, 2, 2, 2, 4, 5,\n",
    "                      2, 2, 2, 0, 0, 0, 0, 0, 0, 0,\n",
    "                      4, 4, 5, 7, 7, 7, 7, 5, 5, 7,\n",
    "                      2, 2, 1, 1, 2, 4, 4, 4, 5, 5,\n",
    "                      7, 7, 7, 7, 7, 5, 7, 7, 7, 4,\n",
    "                      5, 5, 5, 5, 7, 7, 7, 4, 4, 4,\n",
    "                      2, 2, 2, 4, 4, 4, 5, 5, 5, 5]\n",
    "\n",
    "cdf_m = np.ma.masked_equal(cdf, 0)\n",
    "cdf_m = (cdf_m - cdf_m.min()) * 255 / (cdf_m.max()-cdf_m.min())\n",
    "cdf = np.ma.filled(cdf_m, 0).astype('uint8')\n",
    "hasil = cdf[citra_awal]\n",
    "plt.plot(cdf_normalized, color='blue')\n",
    "plt.hist(hasil, 256, [0,256], color='orange')\n",
    "plt.xlim([0,256])\n",
    "plt.legend(('cdf', 'histogram'), loc= 'upper right')\n",
    "plt.show()"
   ]
  }
 ],
 "metadata": {
  "kernelspec": {
   "display_name": "Python 3",
   "language": "python",
   "name": "python3"
  },
  "language_info": {
   "codemirror_mode": {
    "name": "ipython",
    "version": 3
   },
   "file_extension": ".py",
   "mimetype": "text/x-python",
   "name": "python",
   "nbconvert_exporter": "python",
   "pygments_lexer": "ipython3",
   "version": "3.7.6"
  }
 },
 "nbformat": 4,
 "nbformat_minor": 2
}
